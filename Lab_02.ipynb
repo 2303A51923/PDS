{
  "nbformat": 4,
  "nbformat_minor": 0,
  "metadata": {
    "colab": {
      "provenance": [],
      "include_colab_link": true
    },
    "kernelspec": {
      "name": "python3",
      "display_name": "Python 3"
    },
    "language_info": {
      "name": "python"
    }
  },
  "cells": [
    {
      "cell_type": "markdown",
      "metadata": {
        "id": "view-in-github",
        "colab_type": "text"
      },
      "source": [
        "<a href=\"https://colab.research.google.com/github/2303A51923/PDS/blob/main/Lab_02.ipynb\" target=\"_parent\"><img src=\"https://colab.research.google.com/assets/colab-badge.svg\" alt=\"Open In Colab\"/></a>"
      ]
    },
    {
      "cell_type": "code",
      "execution_count": null,
      "metadata": {
        "colab": {
          "base_uri": "https://localhost:8080/"
        },
        "id": "D9LLkYR5xPFf",
        "outputId": "01533c51-f748-440c-f336-91a174135f7c"
      },
      "outputs": [
        {
          "output_type": "stream",
          "name": "stdout",
          "text": [
            "Initial DataFrame:\n",
            "   OrderID     Product  Quantity  Price\n",
            "0      101      Laptop         2  50000\n",
            "1      102      Mobile         5  15000\n",
            "2      103      Tablet         3  12000\n",
            "3      104      Laptop         1  52000\n",
            "4      105  Headphones        10   2000\n",
            "5      106      Mobile         2  15500\n",
            "6      107      Laptop         4  49000\n",
            "\n",
            "DataFrame with Total Sale:\n",
            "   OrderID     Product  Quantity  Price  Total_Sale\n",
            "0      101      Laptop         2  50000      100000\n",
            "1      102      Mobile         5  15000       75000\n",
            "2      103      Tablet         3  12000       36000\n",
            "3      104      Laptop         1  52000       52000\n",
            "4      105  Headphones        10   2000       20000\n",
            "5      106      Mobile         2  15500       31000\n",
            "6      107      Laptop         4  49000      196000\n",
            "\n",
            "Orders with Total Sale > 1000:\n",
            "   OrderID     Product  Quantity  Price  Total_Sale\n",
            "0      101      Laptop         2  50000      100000\n",
            "1      102      Mobile         5  15000       75000\n",
            "2      103      Tablet         3  12000       36000\n",
            "3      104      Laptop         1  52000       52000\n",
            "4      105  Headphones        10   2000       20000\n",
            "5      106      Mobile         2  15500       31000\n",
            "6      107      Laptop         4  49000      196000\n",
            "\n",
            "Most Sold Product:\n",
            "Product     Headphones\n",
            "Quantity            10\n",
            "Name: 0, dtype: object\n",
            "\n",
            "DataFrame with Discount Column:\n",
            "   OrderID     Product  Quantity  Price  Total_Sale  Discount\n",
            "0      101      Laptop         2  50000      100000   10000.0\n",
            "1      102      Mobile         5  15000       75000    7500.0\n",
            "2      103      Tablet         3  12000       36000    1800.0\n",
            "3      104      Laptop         1  52000       52000    5200.0\n",
            "4      105  Headphones        10   2000       20000     400.0\n",
            "5      106      Mobile         2  15500       31000    1550.0\n",
            "6      107      Laptop         4  49000      196000   19600.0\n",
            "\n",
            "✅ Data exported to Ecommerce_Sales_Summary.xlsx\n"
          ]
        }
      ],
      "source": [
        "import pandas as pd\n",
        "data = {\n",
        "    \"OrderID\": [101, 102, 103, 104, 105, 106, 107],\n",
        "    \"Product\": [\"Laptop\", \"Mobile\", \"Tablet\", \"Laptop\", \"Headphones\", \"Mobile\", \"Laptop\"],\n",
        "    \"Quantity\": [2, 5, 3, 1, 10, 2, 4],\n",
        "    \"Price\": [50000, 15000, 12000, 52000, 2000, 15500, 49000]\n",
        "}\n",
        "\n",
        "df = pd.DataFrame(data)\n",
        "print(\"Initial DataFrame:\")\n",
        "print(df)\n",
        "\n",
        "df[\"Total_Sale\"] = df[\"Quantity\"] * df[\"Price\"]\n",
        "print(\"\\nDataFrame with Total Sale:\")\n",
        "print(df)\n",
        "\n",
        "filtered_df = df[df[\"Total_Sale\"] > 1000]\n",
        "print(\"\\nOrders with Total Sale > 1000:\")\n",
        "print(filtered_df)\n",
        "\n",
        "product_sales = df.groupby(\"Product\")[\"Quantity\"].sum().reset_index()\n",
        "most_sold = product_sales.loc[product_sales[\"Quantity\"].idxmax()]\n",
        "print(\"\\nMost Sold Product:\")\n",
        "print(most_sold)\n",
        "\n",
        "def discount_func(sale):\n",
        "    if sale > 50000:\n",
        "        return 0.10 * sale\n",
        "    elif sale > 20000:\n",
        "        return 0.05 * sale\n",
        "    else:\n",
        "        return 0.02 * sale\n",
        "\n",
        "df[\"Discount\"] = df[\"Total_Sale\"].apply(discount_func)\n",
        "print(\"\\nDataFrame with Discount Column:\")\n",
        "print(df)\n",
        "\n",
        "output_file = \"Ecommerce_Sales_Summary.xlsx\"\n",
        "df.to_excel(output_file, index=False)\n",
        "print(f\"\\n✅ Data exported to {output_file}\")\n"
      ]
    },
    {
      "cell_type": "code",
      "source": [
        "import pandas as pd\n",
        "import matplotlib.pyplot as plt\n",
        "budget_data = {\n",
        "    \"Department\": [\"HR\", \"IT\", \"Finance\", \"Marketing\", \"Sales\", \"Operations\"],\n",
        "    \"Budget\": [200000, 500000, 300000, 250000, 400000, 350000]\n",
        "}\n",
        "df_budget = pd.DataFrame(budget_data)\n",
        "print(\"Department Budget DataFrame:\")\n",
        "print(df_budget)\n",
        "\n",
        "expense_data = {\n",
        "    \"Department\": [\"HR\", \"IT\", \"Finance\", \"Marketing\", \"Sales\", \"Operations\"],\n",
        "    \"Actual_Expenses\": [210000, 480000, 320000, 260000, 420000, 330000]\n",
        "}\n",
        "df_expenses = pd.DataFrame(expense_data)\n",
        "print(\"\\nDepartment Actual Expenses DataFrame:\")\n",
        "print(df_expenses)\n",
        "\n",
        "df_merged = pd.merge(df_budget, df_expenses, on=\"Department\")\n",
        "print(\"\\nMerged DataFrame:\")\n",
        "print(df_merged)\n",
        "\n",
        "df_merged[\"Variance\"] = df_merged[\"Budget\"] - df_merged[\"Actual_Expenses\"]\n",
        "print(\"\\nDataFrame with Variance:\")\n",
        "print(df_merged)\n",
        "\n",
        "df_exceed = df_merged[df_merged[\"Variance\"] < 0]\n",
        "print(\"\\nDepartments Exceeding Budget:\")\n",
        "print(df_exceed)\n",
        "\n",
        "df_sorted = df_merged.sort_values(by=\"Variance\")\n",
        "print(\"\\nDepartments Sorted by Variance:\")\n",
        "print(df_sorted)\n",
        "\n",
        "plt.figure(figsize=(8,5))\n",
        "plt.bar(df_merged[\"Department\"], df_merged[\"Budget\"], label=\"Budget\", alpha=0.7)\n",
        "plt.bar(df_merged[\"Department\"], df_merged[\"Actual_Expenses\"], label=\"Actual Expenses\", alpha=0.7)\n",
        "plt.xlabel(\"Department\")\n",
        "plt.ylabel(\"Amount\")\n",
        "plt.title(\"Department Budget vs Actual Expenses\")\n",
        "plt.legend()\n",
        "plt.tight_layout()\n",
        "plt.show()\n"
      ],
      "metadata": {
        "colab": {
          "base_uri": "https://localhost:8080/",
          "height": 1000
        },
        "id": "dRKhA6KVxiGf",
        "outputId": "5742a308-849f-4639-802e-7b4c0a15a955"
      },
      "execution_count": null,
      "outputs": [
        {
          "output_type": "stream",
          "name": "stdout",
          "text": [
            "Department Budget DataFrame:\n",
            "   Department  Budget\n",
            "0          HR  200000\n",
            "1          IT  500000\n",
            "2     Finance  300000\n",
            "3   Marketing  250000\n",
            "4       Sales  400000\n",
            "5  Operations  350000\n",
            "\n",
            "Department Actual Expenses DataFrame:\n",
            "   Department  Actual_Expenses\n",
            "0          HR           210000\n",
            "1          IT           480000\n",
            "2     Finance           320000\n",
            "3   Marketing           260000\n",
            "4       Sales           420000\n",
            "5  Operations           330000\n",
            "\n",
            "Merged DataFrame:\n",
            "   Department  Budget  Actual_Expenses\n",
            "0          HR  200000           210000\n",
            "1          IT  500000           480000\n",
            "2     Finance  300000           320000\n",
            "3   Marketing  250000           260000\n",
            "4       Sales  400000           420000\n",
            "5  Operations  350000           330000\n",
            "\n",
            "DataFrame with Variance:\n",
            "   Department  Budget  Actual_Expenses  Variance\n",
            "0          HR  200000           210000    -10000\n",
            "1          IT  500000           480000     20000\n",
            "2     Finance  300000           320000    -20000\n",
            "3   Marketing  250000           260000    -10000\n",
            "4       Sales  400000           420000    -20000\n",
            "5  Operations  350000           330000     20000\n",
            "\n",
            "Departments Exceeding Budget:\n",
            "  Department  Budget  Actual_Expenses  Variance\n",
            "0         HR  200000           210000    -10000\n",
            "2    Finance  300000           320000    -20000\n",
            "3  Marketing  250000           260000    -10000\n",
            "4      Sales  400000           420000    -20000\n",
            "\n",
            "Departments Sorted by Variance:\n",
            "   Department  Budget  Actual_Expenses  Variance\n",
            "2     Finance  300000           320000    -20000\n",
            "4       Sales  400000           420000    -20000\n",
            "3   Marketing  250000           260000    -10000\n",
            "0          HR  200000           210000    -10000\n",
            "1          IT  500000           480000     20000\n",
            "5  Operations  350000           330000     20000\n"
          ]
        },
        {
          "output_type": "display_data",
          "data": {
            "text/plain": [
              "<Figure size 800x500 with 1 Axes>"
            ],
            "image/png": "[encoded data removed]"
          },
          "metadata": {}
        }
      ]
    }
  ]
}