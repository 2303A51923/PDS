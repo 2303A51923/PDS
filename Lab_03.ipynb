{
  "nbformat": 4,
  "nbformat_minor": 0,
  "metadata": {
    "colab": {
      "provenance": [],
      "include_colab_link": true
    },
    "kernelspec": {
      "name": "python3",
      "display_name": "Python 3"
    },
    "language_info": {
      "name": "python"
    }
  },
  "cells": [
    {
      "cell_type": "markdown",
      "metadata": {
        "id": "view-in-github",
        "colab_type": "text"
      },
      "source": [
        "<a href=\"https://colab.research.google.com/github/2303A51923/PDS/blob/main/Lab_03.ipynb\" target=\"_parent\"><img src=\"https://colab.research.google.com/assets/colab-badge.svg\" alt=\"Open In Colab\"/></a>"
      ]
    },
    {
      "cell_type": "code",
      "source": [
        "import numpy as np\n",
        "A = np.array([[1, 2, 3],\n",
        "              [4, 5, 6]])\n",
        "B = np.array([10, 20, 30])\n",
        "\n",
        "print(\"2D Array A (shape:\", A.shape, \"):\\n\", A)\n",
        "print(\"1D Array B (shape:\", B.shape, \"):\\n\", B)\n",
        "\n",
        "C = A + B\n",
        "print(\"\\nResult of A + B (shape:\", C.shape, \"):\\n\", C)\n",
        "\n",
        "D = np.ones((2,3,4))\n",
        "scalar = 5\n",
        "\n",
        "print(\"\\n3D Array D (shape:\", D.shape, \")\\n\", D)\n",
        "print(\"Scalar value:\", scalar)\n",
        "\n",
        "E = D + scalar\n",
        "print(\"\\nResult of D + scalar (shape:\", E.shape, \"):\\n\", E)\n",
        "F = np.array([1, 2, 3])\n",
        "G = np.array([10, 20])\n",
        "\n",
        "print(\"\\nArray F (shape:\", F.shape, \"):\", F)\n",
        "print(\"Array G (shape:\", G.shape, \"):\", G)\n",
        "\n",
        "F_new = F[np.newaxis, :]\n",
        "G_new = G[:, np.newaxis]\n",
        "\n",
        "print(\"\\nF reshaped (1,3):\\n\", F_new)\n",
        "print(\"G reshaped (2,1):\\n\", G_new)\n",
        "\n",
        "H = F_new + G_new\n",
        "print(\"\\nResult of F_new + G_new (shape:\", H.shape, \"):\\n\", H)\n",
        "I = np.array([1, 2, 3])\n",
        "J = np.array([10, 20, 30, 40])\n",
        "\n",
        "print(\"\\nInvalid Broadcasting Example:\")\n",
        "print(\"I shape:\", I.shape, \" J shape:\", J.shape)\n",
        "\n",
        "try:\n",
        "    K = I + J\n",
        "except ValueError as e:\n",
        "    print(\"❌ Broadcasting Error:\", e)\n"
      ],
      "metadata": {
        "colab": {
          "base_uri": "https://localhost:8080/"
        },
        "id": "cylVa5QJzWXt",
        "outputId": "a6ac3c5e-5e61-423c-8c5f-fb583495c8c6"
      },
      "execution_count": 1,
      "outputs": [
        {
          "output_type": "stream",
          "name": "stdout",
          "text": [
            "2D Array A (shape: (2, 3) ):\n",
            " [[1 2 3]\n",
            " [4 5 6]]\n",
            "1D Array B (shape: (3,) ):\n",
            " [10 20 30]\n",
            "\n",
            "Result of A + B (shape: (2, 3) ):\n",
            " [[11 22 33]\n",
            " [14 25 36]]\n",
            "\n",
            "3D Array D (shape: (2, 3, 4) )\n",
            " [[[1. 1. 1. 1.]\n",
            "  [1. 1. 1. 1.]\n",
            "  [1. 1. 1. 1.]]\n",
            "\n",
            " [[1. 1. 1. 1.]\n",
            "  [1. 1. 1. 1.]\n",
            "  [1. 1. 1. 1.]]]\n",
            "Scalar value: 5\n",
            "\n",
            "Result of D + scalar (shape: (2, 3, 4) ):\n",
            " [[[6. 6. 6. 6.]\n",
            "  [6. 6. 6. 6.]\n",
            "  [6. 6. 6. 6.]]\n",
            "\n",
            " [[6. 6. 6. 6.]\n",
            "  [6. 6. 6. 6.]\n",
            "  [6. 6. 6. 6.]]]\n",
            "\n",
            "Array F (shape: (3,) ): [1 2 3]\n",
            "Array G (shape: (2,) ): [10 20]\n",
            "\n",
            "F reshaped (1,3):\n",
            " [[1 2 3]]\n",
            "G reshaped (2,1):\n",
            " [[10]\n",
            " [20]]\n",
            "\n",
            "Result of F_new + G_new (shape: (2, 3) ):\n",
            " [[11 12 13]\n",
            " [21 22 23]]\n",
            "\n",
            "Invalid Broadcasting Example:\n",
            "I shape: (3,)  J shape: (4,)\n",
            "❌ Broadcasting Error: operands could not be broadcast together with shapes (3,) (4,) \n"
          ]
        }
      ]
    },
    {
      "cell_type": "code",
      "source": [
        "import numpy as np\n",
        "A = np.array([[4, -9, 16],\n",
        "              [25, -36, 49],\n",
        "              [64, -1, 100]])\n",
        "\n",
        "print(\"Original 2D Array (shape:\", A.shape, \"):\\n\", A)\n",
        "A_squared = np.square(A)\n",
        "print(\"\\nSquared Array:\\n\", A_squared)\n",
        "A_sqrt = np.sqrt(np.abs(A))\n",
        "print(\"\\nSquare Root of Absolute Values:\\n\", A_sqrt)\n",
        "A_non_negative = np.where(A < 0, 0, A)\n",
        "print(\"\\nArray with Negatives Replaced by Zero:\\n\", A_non_negative)\n",
        "count_gt_10 = np.sum(A_non_negative > 10)\n",
        "print(\"\\nNumber of elements > 10:\", count_gt_10)\n",
        "mask_gt_10 = A_non_negative > 10\n",
        "print(\"\\nMask Matrix (True where value > 10):\\n\", mask_gt_10)\n",
        "values_gt_10 = A_non_negative[mask_gt_10]\n",
        "print(\"\\nValues > 10:\", values_gt_10)\n",
        "print(\"\\n--- Summary of Steps ---\")\n",
        "print(\"1. Started with a 2D integer array (with negatives).\")\n",
        "print(\"2. Squared all elements (element-wise).\")\n",
        "print(\"3. Took square root of absolute values.\")\n",
        "print(\"4. Replaced negatives with 0 using np.where().\")\n",
        "print(\"5. Counted elements > 10:\", count_gt_10)\n",
        "print(\"6. Created a mask matrix to visualize condition results.\")\n"
      ],
      "metadata": {
        "colab": {
          "base_uri": "https://localhost:8080/"
        },
        "id": "HaUGt-rAzgBh",
        "outputId": "c72146b4-8f4f-487e-ec25-ec82b3a08d71"
      },
      "execution_count": 2,
      "outputs": [
        {
          "output_type": "stream",
          "name": "stdout",
          "text": [
            "Original 2D Array (shape: (3, 3) ):\n",
            " [[  4  -9  16]\n",
            " [ 25 -36  49]\n",
            " [ 64  -1 100]]\n",
            "\n",
            "Squared Array:\n",
            " [[   16    81   256]\n",
            " [  625  1296  2401]\n",
            " [ 4096     1 10000]]\n",
            "\n",
            "Square Root of Absolute Values:\n",
            " [[ 2.  3.  4.]\n",
            " [ 5.  6.  7.]\n",
            " [ 8.  1. 10.]]\n",
            "\n",
            "Array with Negatives Replaced by Zero:\n",
            " [[  4   0  16]\n",
            " [ 25   0  49]\n",
            " [ 64   0 100]]\n",
            "\n",
            "Number of elements > 10: 5\n",
            "\n",
            "Mask Matrix (True where value > 10):\n",
            " [[False False  True]\n",
            " [ True False  True]\n",
            " [ True False  True]]\n",
            "\n",
            "Values > 10: [ 16  25  49  64 100]\n",
            "\n",
            "--- Summary of Steps ---\n",
            "1. Started with a 2D integer array (with negatives).\n",
            "2. Squared all elements (element-wise).\n",
            "3. Took square root of absolute values.\n",
            "4. Replaced negatives with 0 using np.where().\n",
            "5. Counted elements > 10: 5\n",
            "6. Created a mask matrix to visualize condition results.\n"
          ]
        }
      ]
    }
  ]
}